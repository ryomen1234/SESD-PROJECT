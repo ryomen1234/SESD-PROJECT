{
 "cells": [
  {
   "cell_type": "code",
   "execution_count": 1,
   "id": "f625619e",
   "metadata": {},
   "outputs": [],
   "source": [
    "import pandas as pd\n",
    "import numpy as np\n",
    " "
   ]
  },
  {
   "cell_type": "code",
   "execution_count": 3,
   "id": "0fbddc51",
   "metadata": {},
   "outputs": [
    {
     "data": {
      "text/html": [
       "<div>\n",
       "<style scoped>\n",
       "    .dataframe tbody tr th:only-of-type {\n",
       "        vertical-align: middle;\n",
       "    }\n",
       "\n",
       "    .dataframe tbody tr th {\n",
       "        vertical-align: top;\n",
       "    }\n",
       "\n",
       "    .dataframe thead th {\n",
       "        text-align: right;\n",
       "    }\n",
       "</style>\n",
       "<table border=\"1\" class=\"dataframe\">\n",
       "  <thead>\n",
       "    <tr style=\"text-align: right;\">\n",
       "      <th></th>\n",
       "      <th>index</th>\n",
       "      <th>artists</th>\n",
       "      <th>album_name</th>\n",
       "      <th>track_name</th>\n",
       "      <th>labels</th>\n",
       "    </tr>\n",
       "  </thead>\n",
       "  <tbody>\n",
       "    <tr>\n",
       "      <th>0</th>\n",
       "      <td>0</td>\n",
       "      <td>Gen Hoshino</td>\n",
       "      <td>Comedy</td>\n",
       "      <td>Comedy</td>\n",
       "      <td>1</td>\n",
       "    </tr>\n",
       "    <tr>\n",
       "      <th>1</th>\n",
       "      <td>1</td>\n",
       "      <td>Ben Woodward</td>\n",
       "      <td>Ghost (Acoustic)</td>\n",
       "      <td>Ghost - Acoustic</td>\n",
       "      <td>2</td>\n",
       "    </tr>\n",
       "    <tr>\n",
       "      <th>2</th>\n",
       "      <td>2</td>\n",
       "      <td>Ingrid Michaelson;ZAYN</td>\n",
       "      <td>To Begin Again</td>\n",
       "      <td>To Begin Again</td>\n",
       "      <td>2</td>\n",
       "    </tr>\n",
       "    <tr>\n",
       "      <th>3</th>\n",
       "      <td>3</td>\n",
       "      <td>Kina Grannis</td>\n",
       "      <td>Crazy Rich Asians (Original Motion Picture Sou...</td>\n",
       "      <td>Can't Help Falling In Love</td>\n",
       "      <td>2</td>\n",
       "    </tr>\n",
       "    <tr>\n",
       "      <th>4</th>\n",
       "      <td>4</td>\n",
       "      <td>Chord Overstreet</td>\n",
       "      <td>Hold On</td>\n",
       "      <td>Hold On</td>\n",
       "      <td>0</td>\n",
       "    </tr>\n",
       "  </tbody>\n",
       "</table>\n",
       "</div>"
      ],
      "text/plain": [
       "   index                 artists  \\\n",
       "0      0             Gen Hoshino   \n",
       "1      1            Ben Woodward   \n",
       "2      2  Ingrid Michaelson;ZAYN   \n",
       "3      3            Kina Grannis   \n",
       "4      4        Chord Overstreet   \n",
       "\n",
       "                                          album_name  \\\n",
       "0                                             Comedy   \n",
       "1                                   Ghost (Acoustic)   \n",
       "2                                     To Begin Again   \n",
       "3  Crazy Rich Asians (Original Motion Picture Sou...   \n",
       "4                                            Hold On   \n",
       "\n",
       "                   track_name  labels  \n",
       "0                      Comedy       1  \n",
       "1            Ghost - Acoustic       2  \n",
       "2              To Begin Again       2  \n",
       "3  Can't Help Falling In Love       2  \n",
       "4                     Hold On       0  "
      ]
     },
     "execution_count": 3,
     "metadata": {},
     "output_type": "execute_result"
    }
   ],
   "source": [
    "music_list = pd.read_csv(r\"E:\\TY\\SESD\\SESD-PROJECT\\music-store\\mudic_recommedation_list_4.csv\")\n",
    "music_list.head()"
   ]
  },
  {
   "cell_type": "code",
   "execution_count": 18,
   "id": "d277d378",
   "metadata": {},
   "outputs": [
    {
     "data": {
      "text/plain": [
       "np.int64(1)"
      ]
     },
     "execution_count": 18,
     "metadata": {},
     "output_type": "execute_result"
    }
   ],
   "source": [
    "music_list.iloc[0, 4]"
   ]
  },
  {
   "cell_type": "code",
   "execution_count": 25,
   "id": "5ef07012",
   "metadata": {},
   "outputs": [
    {
     "data": {
      "text/plain": [
       "[{'artists': 'New Model Army',\n",
       "  'album_name': 'From Here',\n",
       "  'track_name': 'The Weather'},\n",
       " {'artists': 'The Jackson 5',\n",
       "  'album_name': \"World's Best Christmas Playlist\",\n",
       "  'track_name': 'Santa Claus Is Coming To Town'},\n",
       " {'artists': 'Doctora Juguetes;Felpita;Lambie;Pepinilla',\n",
       "  'album_name': 'Doctora Juguetes: Ya Llegó la Doctora',\n",
       "  'track_name': 'Porque Eres Tú'},\n",
       " {'artists': 'Spinning Jennies',\n",
       "  'album_name': 'Det våras för Werther',\n",
       "  'track_name': 'Hon bor i Hammarbyhöjden'},\n",
       " {'artists': 'LOS HERMANOS',\n",
       "  'album_name': 'On Another Level',\n",
       "  'track_name': 'Birth of 3000'},\n",
       " {'artists': 'Little Jinder;First Aid Kit',\n",
       "  'album_name': 'Hejdå',\n",
       "  'track_name': 'Goldwing (feat. First Aid Kit)'},\n",
       " {'artists': 'Eric William Morris',\n",
       "  'album_name': 'Be More Chill (Original Cast Recording)',\n",
       "  'track_name': 'The Squip Enters'},\n",
       " {'artists': 'Tony Rice',\n",
       "  'album_name': 'Tony Rice Plays And Sings Bluegrass',\n",
       "  'track_name': \"Ain't Nobody Gonna Miss Me When I'm Gone\"},\n",
       " {'artists': 'G.E.M.', 'album_name': '啓示錄', 'track_name': '天空沒有極限'},\n",
       " {'artists': 'Bailey Zimmerman',\n",
       "  'album_name': 'Hideaway - New Boots',\n",
       "  'track_name': 'Fall in Love'}]"
      ]
     },
     "execution_count": 25,
     "metadata": {},
     "output_type": "execute_result"
    }
   ],
   "source": [
    "#song index\n",
    "song_idx = 4\n",
    "#song label corresponding to index.\n",
    "song_label = music_list.iloc[song_idx, 4]\n",
    "\n",
    "song_cluster = music_list[music_list['labels'] == song_label]\n",
    "\n",
    "song_sample = song_cluster[['artists', 'album_name', 'track_name']].sample(10)\n",
    "song_list = song_sample.to_dict(orient='records')\n",
    "song_list"
   ]
  },
  {
   "cell_type": "code",
   "execution_count": null,
   "id": "502c3f96",
   "metadata": {},
   "outputs": [],
   "source": []
  }
 ],
 "metadata": {
  "kernelspec": {
   "display_name": "env2 (3.12.10)",
   "language": "python",
   "name": "python3"
  },
  "language_info": {
   "codemirror_mode": {
    "name": "ipython",
    "version": 3
   },
   "file_extension": ".py",
   "mimetype": "text/x-python",
   "name": "python",
   "nbconvert_exporter": "python",
   "pygments_lexer": "ipython3",
   "version": "3.12.10"
  }
 },
 "nbformat": 4,
 "nbformat_minor": 5
}
