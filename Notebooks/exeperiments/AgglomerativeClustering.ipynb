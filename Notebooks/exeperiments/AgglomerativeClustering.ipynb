{
 "cells": [
  {
   "cell_type": "code",
   "execution_count": 2,
   "id": "0720896a",
   "metadata": {},
   "outputs": [],
   "source": [
    "import pandas as pd \n",
    "import numpy as np\n",
    "\n",
    "from sklearn.preprocessing import StandardScaler\n",
    "from sklearn.cluster import AgglomerativeClustering\n",
    "from sklearn.metrics import silhouette_score, calinski_harabasz_score\n"
   ]
  },
  {
   "cell_type": "code",
   "execution_count": 3,
   "id": "4c6c5ffb",
   "metadata": {},
   "outputs": [
    {
     "data": {
      "text/plain": [
       "(114000, 15)"
      ]
     },
     "execution_count": 3,
     "metadata": {},
     "output_type": "execute_result"
    }
   ],
   "source": [
    "train_data = np.load(r\"E:\\TY\\SESD\\SESD-PROJECT\\data\\clean_data\\train_data.npy\")\n",
    "train_data.shape"
   ]
  },
  {
   "cell_type": "code",
   "execution_count": 4,
   "id": "e0d8c376",
   "metadata": {},
   "outputs": [
    {
     "data": {
      "text/plain": [
       "(34200, 15)"
      ]
     },
     "execution_count": 4,
     "metadata": {},
     "output_type": "execute_result"
    }
   ],
   "source": [
    "size = int(0.3*train_data.shape[0])\n",
    "df_sample = train_data[:size,:]\n",
    "df_sample.shape"
   ]
  },
  {
   "cell_type": "code",
   "execution_count": 5,
   "id": "2f4a047d",
   "metadata": {},
   "outputs": [
    {
     "name": "stdout",
     "output_type": "stream",
     "text": [
      "Silhouette Score: 0.162\n",
      "Calinski Harabasz Score: 4594.646\n"
     ]
    }
   ],
   "source": [
    "model = AgglomerativeClustering(n_clusters=3)\n",
    "model.fit(df_sample)\n",
    "labels = model.labels_\n",
    "\n",
    "score1 = silhouette_score(df_sample, labels)\n",
    "score2 = calinski_harabasz_score(df_sample, labels)\n",
    "\n",
    "print(f\"Silhouette Score: {score1:.3f}\")\n",
    "print(f\"Calinski Harabasz Score: {score2:.3f}\")\n"
   ]
  },
  {
   "cell_type": "code",
   "execution_count": 6,
   "id": "d1cec893",
   "metadata": {},
   "outputs": [
    {
     "data": {
      "text/plain": [
       "{'algorithm': 'AgglomerativeClustering',\n",
       " 'parameter': {'n-cluster': 3},\n",
       " 'Silhouette Score': 0.16238037764653832,\n",
       " 'calinski_harabasz_score': 4594.646457244154}"
      ]
     },
     "execution_count": 6,
     "metadata": {},
     "output_type": "execute_result"
    }
   ],
   "source": [
    "report = {\n",
    "    \"algorithm\" : \"AgglomerativeClustering\",\n",
    "    \"parameter\" : {\n",
    "        \"n-cluster\" : 3\n",
    "    },\n",
    "    \"Silhouette Score\" : score1,\n",
    "    \"calinski_harabasz_score\" : score2\n",
    "\n",
    "}\n",
    "\n",
    "report"
   ]
  },
  {
   "cell_type": "code",
   "execution_count": 7,
   "id": "d5f88404",
   "metadata": {},
   "outputs": [
    {
     "name": "stdout",
     "output_type": "stream",
     "text": [
      "reprots stored successfully in: %S reports\\AgglomerativeClustering_reports.json\n"
     ]
    }
   ],
   "source": [
    "import os\n",
    "import json\n",
    "\n",
    "folder_path = \"reports\"\n",
    "os.makedirs(folder_path, exist_ok=True)\n",
    "\n",
    "report_file_path = os.path.join(folder_path, 'AgglomerativeClustering_reports.json')\n",
    "with open(report_file_path, 'w') as f:\n",
    "    json.dump(report, f, indent=4)\n",
    "\n",
    "print(f\"reprots stored successfully in: %S\", report_file_path)"
   ]
  },
  {
   "cell_type": "code",
   "execution_count": null,
   "id": "2a09587b",
   "metadata": {},
   "outputs": [],
   "source": []
  }
 ],
 "metadata": {
  "kernelspec": {
   "display_name": "env2 (3.12.10)",
   "language": "python",
   "name": "python3"
  },
  "language_info": {
   "codemirror_mode": {
    "name": "ipython",
    "version": 3
   },
   "file_extension": ".py",
   "mimetype": "text/x-python",
   "name": "python",
   "nbconvert_exporter": "python",
   "pygments_lexer": "ipython3",
   "version": "3.12.10"
  }
 },
 "nbformat": 4,
 "nbformat_minor": 5
}
