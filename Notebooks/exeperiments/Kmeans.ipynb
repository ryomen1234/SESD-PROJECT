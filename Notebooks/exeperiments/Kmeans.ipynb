{
 "cells": [
  {
   "cell_type": "code",
   "execution_count": 1,
   "id": "da4b554e",
   "metadata": {},
   "outputs": [],
   "source": [
    "import pandas as pd \n",
    "import numpy as np\n",
    "\n",
    "from sklearn.cluster import KMeans\n",
    "from sklearn.preprocessing import StandardScaler\n",
    "\n",
    "import seaborn as sns\n",
    "import matplotlib.pyplot as plt\n",
    "\n",
    "import mlflow\n",
    "from sklearn.metrics import silhouette_score\n",
    "from sklearn.metrics import calinski_harabasz_score"
   ]
  },
  {
   "cell_type": "code",
   "execution_count": 5,
   "id": "2e628f19",
   "metadata": {},
   "outputs": [
    {
     "data": {
      "text/plain": [
       "(114000, 15)"
      ]
     },
     "execution_count": 5,
     "metadata": {},
     "output_type": "execute_result"
    }
   ],
   "source": [
    "train_data = np.load(r\"E:\\TY\\SESD\\SESD-PROJECT\\data\\clean_data\\train_data.npy\")\n",
    "train_data.shape"
   ]
  },
  {
   "cell_type": "code",
   "execution_count": 6,
   "id": "fb89284e",
   "metadata": {},
   "outputs": [
    {
     "data": {
      "text/plain": [
       "(34200, 15)"
      ]
     },
     "execution_count": 6,
     "metadata": {},
     "output_type": "execute_result"
    }
   ],
   "source": [
    "size = int(0.3*train_data.shape[0])\n",
    "df_sample = train_data[:size,:]\n",
    "df_sample.shape"
   ]
  },
  {
   "cell_type": "code",
   "execution_count": 7,
   "id": "f231058c",
   "metadata": {},
   "outputs": [
    {
     "data": {
      "text/plain": [
       "array([ 1.78262719,  0.02457516, -0.30576742,  0.62924424, -0.71714792,\n",
       "       -1.21044237,  0.30082834, -1.32628099,  0.55184753, -0.85020151,\n",
       "       -0.50410861,  0.75874327,  0.92930586, -1.14186279,  0.22182318])"
      ]
     },
     "execution_count": 7,
     "metadata": {},
     "output_type": "execute_result"
    }
   ],
   "source": [
    "df_sample[0]"
   ]
  },
  {
   "cell_type": "code",
   "execution_count": 8,
   "id": "9021fda3",
   "metadata": {},
   "outputs": [
    {
     "data": {
      "image/png": "[encoded data removed]",
      "text/plain": [
       "<Figure size 640x480 with 1 Axes>"
      ]
     },
     "metadata": {},
     "output_type": "display_data"
    }
   ],
   "source": [
    "wcss = []\n",
    "for k in range(1, 11):\n",
    "    kmeans = KMeans(n_clusters=k, random_state=0)\n",
    "    kmeans.fit(df_sample)\n",
    "    wcss.append(kmeans.inertia_)\n",
    "\n",
    "# Plot the elbow method\n",
    "plt.plot(range(1, 11), wcss, marker='o')\n",
    "plt.xlabel('Number of Clusters (k)')\n",
    "plt.ylabel('WCSS')\n",
    "plt.title('Elbow Method')\n",
    "plt.show()"
   ]
  },
  {
   "cell_type": "code",
   "execution_count": 9,
   "id": "47e7ae83",
   "metadata": {},
   "outputs": [
    {
     "name": "stdout",
     "output_type": "stream",
     "text": [
      "Silhouette Score: 0.154\n",
      "calinski harabasz score: 4650.705\n"
     ]
    }
   ],
   "source": [
    "cluster = KMeans(n_clusters=4, max_iter=100, random_state=42)\n",
    "labels = cluster.fit_predict(df_sample)\n",
    "\n",
    "score1 = silhouette_score(df_sample, labels)\n",
    "score2 = calinski_harabasz_score(df_sample, labels)\n",
    "\n",
    "print(f'Silhouette Score: {score1:.3f}')\n",
    "print(f\"calinski harabasz score: {score2:.3f}\")"
   ]
  },
  {
   "cell_type": "code",
   "execution_count": 10,
   "id": "1d183c4f",
   "metadata": {},
   "outputs": [],
   "source": [
    "report = {\n",
    "    \"algorithm\" : \"KMeans\",\n",
    "    \"parameter\" : {\n",
    "        \"n-cluster\" : 3,\n",
    "        \"max_iter\" : 100\n",
    "    },\n",
    "    \"Silhouette Score\" : score1,\n",
    "    \"calinski_harabasz_score\" : score2\n",
    "\n",
    "}"
   ]
  },
  {
   "cell_type": "code",
   "execution_count": 11,
   "id": "8902e587",
   "metadata": {},
   "outputs": [
    {
     "data": {
      "text/plain": [
       "{'algorithm': 'KMeans',\n",
       " 'parameter': {'n-cluster': 3, 'max_iter': 100},\n",
       " 'Silhouette Score': 0.15360692177320157,\n",
       " 'calinski_harabasz_score': 4650.705012167394}"
      ]
     },
     "execution_count": 11,
     "metadata": {},
     "output_type": "execute_result"
    }
   ],
   "source": [
    "report"
   ]
  },
  {
   "cell_type": "code",
   "execution_count": 13,
   "id": "8a792826",
   "metadata": {},
   "outputs": [
    {
     "name": "stdout",
     "output_type": "stream",
     "text": [
      "reprots stored successfully in: %s reports\\KMeans_reports.json\n"
     ]
    }
   ],
   "source": [
    "import os\n",
    "import json\n",
    "\n",
    "folder_path = \"reports\"\n",
    "os.makedirs(folder_path, exist_ok=True)\n",
    "\n",
    "report_file_path = os.path.join(folder_path, 'KMeans_reports.json')\n",
    "with open(report_file_path, 'w') as f:\n",
    "    json.dump(report, f, indent=4)\n",
    "\n",
    "print(f\"reprots stored successfully in: %s\", report_file_path)"
   ]
  },
  {
   "cell_type": "code",
   "execution_count": null,
   "id": "84c70032",
   "metadata": {},
   "outputs": [],
   "source": []
  }
 ],
 "metadata": {
  "kernelspec": {
   "display_name": "env2 (3.12.10)",
   "language": "python",
   "name": "python3"
  },
  "language_info": {
   "codemirror_mode": {
    "name": "ipython",
    "version": 3
   },
   "file_extension": ".py",
   "mimetype": "text/x-python",
   "name": "python",
   "nbconvert_exporter": "python",
   "pygments_lexer": "ipython3",
   "version": "3.12.10"
  }
 },
 "nbformat": 4,
 "nbformat_minor": 5
}
