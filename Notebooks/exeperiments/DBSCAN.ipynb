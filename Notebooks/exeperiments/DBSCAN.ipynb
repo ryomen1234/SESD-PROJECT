{
 "cells": [
  {
   "cell_type": "code",
   "execution_count": 1,
   "id": "0c193ee5",
   "metadata": {},
   "outputs": [],
   "source": [
    "import pandas as pd\n",
    "import numpy as np\n",
    "\n",
    "from sklearn.preprocessing import StandardScaler\n",
    "from sklearn.model_selection import GridSearchCV\n",
    "from sklearn.cluster import DBSCAN\n",
    "from sklearn.metrics import silhouette_score, calinski_harabasz_score\n"
   ]
  },
  {
   "cell_type": "code",
   "execution_count": 2,
   "id": "112145d4",
   "metadata": {},
   "outputs": [
    {
     "data": {
      "text/plain": [
       "(114000, 15)"
      ]
     },
     "execution_count": 2,
     "metadata": {},
     "output_type": "execute_result"
    }
   ],
   "source": [
    "train_data = np.load(r\"E:\\TY\\SESD\\SESD-PROJECT\\data\\clean_data\\train_data.npy\")\n",
    "train_data.shape"
   ]
  },
  {
   "cell_type": "code",
   "execution_count": 3,
   "id": "3ba16329",
   "metadata": {},
   "outputs": [
    {
     "data": {
      "text/plain": [
       "(34200, 15)"
      ]
     },
     "execution_count": 3,
     "metadata": {},
     "output_type": "execute_result"
    }
   ],
   "source": [
    "size = int(0.3*train_data.shape[0])\n",
    "df_sample = train_data[:size,:]\n",
    "df_sample.shape"
   ]
  },
  {
   "cell_type": "code",
   "execution_count": 4,
   "id": "1f691273",
   "metadata": {},
   "outputs": [
    {
     "name": "stdout",
     "output_type": "stream",
     "text": [
      "Silhouette Score: -0.417\n",
      "Calinski Harabasz Score: 6.906\n"
     ]
    }
   ],
   "source": [
    "model = DBSCAN()\n",
    "model.fit(df_sample)\n",
    "\n",
    "labels = model.labels_\n",
    "\n",
    "score1 = silhouette_score(df_sample, labels)\n",
    "score2 = calinski_harabasz_score(df_sample, labels)\n",
    "\n",
    "print(f\"Silhouette Score: {score1:.3f}\")\n",
    "print(f\"Calinski Harabasz Score: {score2:.3f}\")"
   ]
  },
  {
   "cell_type": "code",
   "execution_count": null,
   "id": "b381f75b",
   "metadata": {},
   "outputs": [],
   "source": []
  }
 ],
 "metadata": {
  "kernelspec": {
   "display_name": "env2 (3.12.10)",
   "language": "python",
   "name": "python3"
  },
  "language_info": {
   "codemirror_mode": {
    "name": "ipython",
    "version": 3
   },
   "file_extension": ".py",
   "mimetype": "text/x-python",
   "name": "python",
   "nbconvert_exporter": "python",
   "pygments_lexer": "ipython3",
   "version": "3.12.10"
  }
 },
 "nbformat": 4,
 "nbformat_minor": 5
}
